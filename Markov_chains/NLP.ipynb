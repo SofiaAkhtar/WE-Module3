{
  "nbformat": 4,
  "nbformat_minor": 0,
  "metadata": {
    "colab": {
      "provenance": [],
      "authorship_tag": "ABX9TyMuCnHlfuZZ3RZtTDYwtSIF",
      "include_colab_link": true
    },
    "kernelspec": {
      "name": "python3",
      "display_name": "Python 3"
    },
    "language_info": {
      "name": "python"
    }
  },
  "cells": [
    {
      "cell_type": "markdown",
      "metadata": {
        "id": "view-in-github",
        "colab_type": "text"
      },
      "source": [
        "<a href=\"https://colab.research.google.com/github/SofiaAkhtar/WE-Module3/blob/main/NLP.ipynb\" target=\"_parent\"><img src=\"https://colab.research.google.com/assets/colab-badge.svg\" alt=\"Open In Colab\"/></a>"
      ]
    },
    {
      "cell_type": "code",
      "execution_count": 2,
      "metadata": {
        "colab": {
          "base_uri": "https://localhost:8080/"
        },
        "id": "S0g-QJxR_GKP",
        "outputId": "0f50c723-7a9c-4a06-fa3b-86cba99381e6"
      },
      "outputs": [
        {
          "output_type": "stream",
          "name": "stdout",
          "text": [
            "Markov chain: ['This', 'this', 'is', 'an', 'example', 'text', 'to', 'generate', 'a', 'markov']\n"
          ]
        }
      ],
      "source": [
        "import random\n",
        "\n",
        "def preprocess_text(text):\n",
        "  \"\"\"Preprocesses the text by splitting it into words and converting them to lowercase.\"\"\"\n",
        "  words = text.lower().split()\n",
        "  return words\n",
        "\n",
        "def build_transitions(words):\n",
        "  \"\"\"Builds a dictionary to store the word transitions.\n",
        "\n",
        "  Args:\n",
        "      words: A list of words representing the preprocessed text.\n",
        "\n",
        "  Returns:\n",
        "      A dictionary where keys are current words and values are lists of following words.\n",
        "  \"\"\"\n",
        "  transitions = {}\n",
        "  prev_word = None\n",
        "  for current_word in words:\n",
        "    if prev_word is not None:\n",
        "      if prev_word not in transitions:\n",
        "        transitions[prev_word] = []\n",
        "      transitions[prev_word].append(current_word)\n",
        "    prev_word = current_word\n",
        "  return transitions\n",
        "\n",
        "def generate_chain(transitions, start_word, output_length):\n",
        "  \"\"\"Generates a markov chain of length output_length starting with start_word.\n",
        "\n",
        "  Args:\n",
        "      transitions: A dictionary where keys are current words and values are lists of following words.\n",
        "      start_word: The word to start the markov chain with.\n",
        "      output_length: The length of the markov chain to generate.\n",
        "\n",
        "  Returns:\n",
        "      A list of words representing the generated markov chain.\n",
        "  \"\"\"\n",
        "  markov_chain = [start_word]\n",
        "  for _ in range(output_length - 1):\n",
        "    if start_word not in transitions:\n",
        "      # If the current word doesn't have any following words, choose a random word\n",
        "      next_word = random.choice(words)\n",
        "    else:\n",
        "      # Choose a random word from the following words based on their probabilities\n",
        "      next_word = random.choice(transitions[start_word])\n",
        "    markov_chain.append(next_word)\n",
        "    start_word = next_word\n",
        "  return markov_chain\n",
        "\n",
        "# Example usage\n",
        "text = \"This is an example text to generate a markov chain.\"\n",
        "words = preprocess_text(text)\n",
        "transitions = build_transitions(words)\n",
        "start_word = \"This\"\n",
        "output_length = 10\n",
        "markov_chain = generate_chain(transitions, start_word, output_length)\n",
        "print(\"Markov chain:\", markov_chain)\n"
      ]
    },
    {
      "cell_type": "code",
      "source": [
        "text = \"\"\n",
        "# Test with empty text\n",
        "try:\n",
        "  words = preprocess_text(text)\n",
        "  transitions = build_transitions(words)\n",
        "  start_word = \"This\"  # Should raise an error\n",
        "  output_length = 10\n",
        "  markov_chain = generate_chain(transitions, start_word, output_length)\n",
        "except Exception as e:\n",
        "  print(\"Expected error for empty text:\", e)\n"
      ],
      "metadata": {
        "colab": {
          "base_uri": "https://localhost:8080/"
        },
        "id": "lYAlj9nyA9t7",
        "outputId": "488317a0-08a0-4a44-9296-4a00b1f0b613"
      },
      "execution_count": 3,
      "outputs": [
        {
          "output_type": "stream",
          "name": "stdout",
          "text": [
            "Expected error for empty text: list index out of range\n"
          ]
        }
      ]
    },
    {
      "cell_type": "code",
      "source": [
        "text = \"Hello\"\n",
        "words = preprocess_text(text)\n",
        "transitions = build_transitions(words)\n",
        "start_word = \"Hello\"\n",
        "output_length = 5\n",
        "markov_chain = generate_chain(transitions, start_word, output_length)\n",
        "print(\"Markov chain (single word):\", markov_chain)\n"
      ],
      "metadata": {
        "colab": {
          "base_uri": "https://localhost:8080/"
        },
        "id": "fYMM3ZPYA_ev",
        "outputId": "1c09bff2-4863-4a5e-e206-cb07f2686439"
      },
      "execution_count": 4,
      "outputs": [
        {
          "output_type": "stream",
          "name": "stdout",
          "text": [
            "Markov chain (single word): ['Hello', 'hello', 'hello', 'hello', 'hello']\n"
          ]
        }
      ]
    },
    {
      "cell_type": "code",
      "source": [
        "text = \"This is a sentence. How does it work?\"\n",
        "words = preprocess_text(text)\n",
        "transitions = build_transitions(words)\n",
        "start_word = \"This\"\n",
        "output_length = 8\n",
        "markov_chain = generate_chain(transitions, start_word, output_length)\n",
        "print(\"Markov chain (punctuation):\", markov_chain)\n"
      ],
      "metadata": {
        "colab": {
          "base_uri": "https://localhost:8080/"
        },
        "id": "hgRIjSbeBHuN",
        "outputId": "06b57c3b-ea50-4b3d-8406-548e6c89e351"
      },
      "execution_count": 5,
      "outputs": [
        {
          "output_type": "stream",
          "name": "stdout",
          "text": [
            "Markov chain (punctuation): ['This', 'sentence.', 'how', 'does', 'it', 'work?', 'sentence.', 'how']\n"
          ]
        }
      ]
    },
    {
      "cell_type": "code",
      "source": [
        "# Replace with a longer text passage\n",
        "text = \"This is a longer text passage to test the code's performance with a larger dataset. It allows us to see how the Markov chain captures the word relationships over a bigger sample.\"\n",
        "words = preprocess_text(text)\n",
        "transitions = build_transitions(words)\n",
        "start_word = \"This\"\n",
        "output_length = 15\n",
        "markov_chain = generate_chain(transitions, start_word, output_length)\n",
        "print(\"Markov chain (long text):\", markov_chain)\n"
      ],
      "metadata": {
        "colab": {
          "base_uri": "https://localhost:8080/"
        },
        "id": "Qb1YHaPABJ50",
        "outputId": "32dd4e5f-57d5-47a7-dcb6-38486c26fb57"
      },
      "execution_count": 6,
      "outputs": [
        {
          "output_type": "stream",
          "name": "stdout",
          "text": [
            "Markov chain (long text): ['This', 'is', 'a', 'bigger', 'sample.', 'a', 'larger', 'dataset.', 'it', 'allows', 'us', 'to', 'see', 'how', 'the']\n"
          ]
        }
      ]
    },
    {
      "cell_type": "code",
      "source": [
        "text = \"The quick brown fox jumps over the lazy dog.\"\n",
        "words = preprocess_text(text)\n",
        "transitions = build_transitions(words)\n",
        "start_word = \"Apple\"  # Not present in the text\n",
        "output_length = 7\n",
        "markov_chain = generate_chain(transitions, start_word, output_length)\n",
        "print(\"Markov chain (specific start word):\", markov_chain)\n"
      ],
      "metadata": {
        "colab": {
          "base_uri": "https://localhost:8080/"
        },
        "id": "4EWzhDwCBMn4",
        "outputId": "648a8bc1-08fb-4e2a-e2de-554cc2f078d8"
      },
      "execution_count": 7,
      "outputs": [
        {
          "output_type": "stream",
          "name": "stdout",
          "text": [
            "Markov chain (specific start word): ['Apple', 'dog.', 'fox', 'jumps', 'over', 'the', 'quick']\n"
          ]
        }
      ]
    }
  ]
}