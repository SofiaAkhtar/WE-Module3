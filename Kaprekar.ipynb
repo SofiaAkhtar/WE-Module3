{
  "cells": [
    {
      "cell_type": "markdown",
      "metadata": {
        "id": "view-in-github",
        "colab_type": "text"
      },
      "source": [
        "<a href=\"https://colab.research.google.com/github/SofiaAkhtar/WE-Module3/blob/main/Kaprekar.ipynb\" target=\"_parent\"><img src=\"https://colab.research.google.com/assets/colab-badge.svg\" alt=\"Open In Colab\"/></a>"
      ]
    },
    {
      "cell_type": "markdown",
      "metadata": {
        "id": "6PAnynR4dK5G"
      },
      "source": [
        "6784⇒8764,4678⇒4086\n",
        "\n",
        "4086⇒8640,0468⇒8172\n",
        "\n",
        "8172⇒8721,1278⇒7443\n",
        "\n",
        "7443⇒7443,3447⇒3996\n",
        "\n",
        "3996⇒9963,3699⇒6264\n",
        "\n",
        "6264⇒6642,2466⇒4176\n",
        "\n",
        "4176⇒7641,1467⇒6174\n",
        "\n",
        "Input :: 6784\n",
        "Output :: [6784,4086,8172,7443,3996,6264,4176,6174]\n",
        "Kaprekar's constant\n",
        "Fixed point of the kaprekar transform\n",
        "6174 for 4 digits\n",
        "495 for 3 digits"
      ]
    },
    {
      "cell_type": "code",
      "source": [
        "def kaprekar_transform_step(number):\n",
        "    # Convert number to a list of digits\n",
        "    digits = [int(d) for d in str(number)]\n",
        "\n",
        "    # Find the largest and smallest numbers\n",
        "    largest = int(''.join(sorted(digits, reverse=True)))\n",
        "    smallest = int(''.join(sorted(digits)))\n",
        "\n",
        "    # Perform Kaprekar transformation\n",
        "    return largest - smallest\n",
        "\n",
        "\n",
        "def find_largest_number(digits):\n",
        "    # Find the largest number from a list of digits\n",
        "    return int(''.join(map(str, sorted(digits, reverse=True))))\n",
        "\n",
        "\n",
        "def find_smallest_number(digits):\n",
        "    # Find the smallest number from a list of digits\n",
        "    return int(''.join(map(str, sorted(digits))))\n",
        "\n",
        "\n",
        "def kaprekar_transform_step_optimized(number):\n",
        "    # Convert number to a list of digits\n",
        "    digits = [int(d) for d in str(number)]\n",
        "\n",
        "    # Find the largest and smallest numbers\n",
        "    largest = find_largest_number(digits)\n",
        "    smallest = find_smallest_number(digits)\n",
        "\n",
        "    # Perform Kaprekar transformation\n",
        "    return largest - smallest\n",
        "\n",
        "\n",
        "# Example usage\n",
        "input_number = 6784\n",
        "transformed_number = kaprekar_transform_step_optimized(input_number)\n",
        "\n",
        "print(\"Input:\", input_number)\n",
        "print(\"Transformed Number:\", transformed_number)\n"
      ],
      "metadata": {
        "colab": {
          "base_uri": "https://localhost:8080/"
        },
        "id": "acDDTc1ZoWvj",
        "outputId": "ae9a225b-d6a8-4dd9-f125-deda373fe834"
      },
      "execution_count": 13,
      "outputs": [
        {
          "output_type": "stream",
          "name": "stdout",
          "text": [
            "Input: 6784\n",
            "Transformed Number: 4086\n"
          ]
        }
      ]
    },
    {
      "cell_type": "code",
      "source": [
        "# Example 2\n",
        "input_number = 9831\n",
        "transformed_number = kaprekar_transform_step_optimized(input_number)\n",
        "print(\"\\nInput:\", input_number)\n",
        "print(\"Transformed Number:\", transformed_number)\n",
        "\n",
        "# Example 3\n",
        "input_number = 7777\n",
        "transformed_number = kaprekar_transform_step_optimized(input_number)\n",
        "print(\"\\nInput:\", input_number)\n",
        "print(\"Transformed Number:\", transformed_number)\n",
        "\n",
        "# Example 4\n",
        "input_number = 1010\n",
        "transformed_number = kaprekar_transform_step_optimized(input_number)\n",
        "print(\"\\nInput:\", input_number)\n",
        "print(\"Transformed Number:\", transformed_number)"
      ],
      "metadata": {
        "colab": {
          "base_uri": "https://localhost:8080/"
        },
        "id": "EvjJ_Me0o3No",
        "outputId": "04446c43-cd03-410a-dd38-5a2d5fc2507e"
      },
      "execution_count": 14,
      "outputs": [
        {
          "output_type": "stream",
          "name": "stdout",
          "text": [
            "\n",
            "Input: 9831\n",
            "Transformed Number: 8442\n",
            "\n",
            "Input: 7777\n",
            "Transformed Number: 0\n",
            "\n",
            "Input: 1010\n",
            "Transformed Number: 1089\n"
          ]
        }
      ]
    }
  ],
  "metadata": {
    "colab": {
      "provenance": [],
      "authorship_tag": "ABX9TyNUOpJJ0E8yiqWfFXg3fBbx",
      "include_colab_link": true
    },
    "kernelspec": {
      "display_name": "Python 3",
      "name": "python3"
    },
    "language_info": {
      "name": "python"
    }
  },
  "nbformat": 4,
  "nbformat_minor": 0
}